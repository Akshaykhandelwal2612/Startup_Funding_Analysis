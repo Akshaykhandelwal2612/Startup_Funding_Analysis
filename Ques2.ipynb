{
 "cells": [
  {
   "cell_type": "code",
   "execution_count": 1,
   "metadata": {},
   "outputs": [
    {
     "name": "stdout",
     "output_type": "stream",
     "text": [
      "Sequoia Capital 64\n",
      "Accel Partners 52\n",
      "Kalaari Capital 44\n",
      "SAIF Partners 41\n",
      "Indian Angel Network 40\n"
     ]
    }
   ],
   "source": [
    "# at first we will import all the libararies that are required during the code \n",
    "import pandas as pd\n",
    "import numpy as np \n",
    "import matplotlib.pyplot as plt \n",
    "import csv\n",
    "\n",
    "#now we will open the csv file , here i am reading it with csv libarary however same could be done using pandas and the encoding used is utf-8\n",
    "with open('startup_funding.csv', encoding='utf8') as file_obj:\n",
    "    file_data=csv.DictReader(file_obj, skipinitialspace=True)\n",
    "    investors=[]\n",
    "    #now we will form a separate list of investors from the database and will remove blank and undisclosed entries \n",
    "    for row in file_data:\n",
    "        if not ('Undisclosed' in row['InvestorsName'] or 'undisclosed' in row['InvestorsName'] or row[\"InvestorsName\"]==\"\"):\n",
    "            for i in row['InvestorsName'].split(','):\n",
    "                investors.append(i.strip())\n",
    "    #now we will make a dictionary with keys as investors and number of investments as values \n",
    "    d=dict()\n",
    "    for i in investors:\n",
    "        d[i]=d.get(i,0)+1\n",
    "    x=[]\n",
    "    y=[]\n",
    "    #we convert them to arrays and then to numpy arrays so that we can perform operations on them in a better way \n",
    "    for i in d.keys():\n",
    "        x.append(i)\n",
    "        y.append(d[i])\n",
    "    \n",
    "    xn=np.array(x)\n",
    "    yn=np.array(y)\n",
    "    #sort the array and reverse it so that the array now max values are at top and then print top 5 values \n",
    "    xn=xn[np.argsort(yn)]\n",
    "    yn=np.sort(yn)\n",
    "    xn=xn[::-1]\n",
    "    yn=yn[::-1]\n",
    "    for i in range(5):\n",
    "        print(xn[i],yn[i])\n"
   ]
  }
 ],
 "metadata": {
  "kernelspec": {
   "display_name": "Python 3",
   "language": "python",
   "name": "python3"
  },
  "language_info": {
   "codemirror_mode": {
    "name": "ipython",
    "version": 3
   },
   "file_extension": ".py",
   "mimetype": "text/x-python",
   "name": "python",
   "nbconvert_exporter": "python",
   "pygments_lexer": "ipython3",
   "version": "3.8.5"
  }
 },
 "nbformat": 4,
 "nbformat_minor": 4
}
