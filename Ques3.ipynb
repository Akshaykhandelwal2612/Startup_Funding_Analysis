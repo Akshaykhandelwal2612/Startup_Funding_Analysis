{
 "cells": [
  {
   "cell_type": "code",
   "execution_count": 1,
   "metadata": {},
   "outputs": [
    {
     "name": "stdout",
     "output_type": "stream",
     "text": [
      "Sequoia Capital 51\n",
      "Accel Partners 46\n",
      "Kalaari Capital 41\n",
      "Indian Angel Network 40\n",
      "Blume Ventures 36\n"
     ]
    }
   ],
   "source": [
    "# at first we will import all the libararies that are required during the code \n",
    "import pandas as pd\n",
    "import numpy as np \n",
    "import matplotlib.pyplot as plt \n",
    "import csv\n",
    "\n",
    "#now we will open the csv file , here i am reading it with csv libarary however same could be done using pandas and the encoding used is utf-8\n",
    "with open('startup_funding.csv', encoding='utf8') as file_obj:\n",
    "    file_data=csv.DictReader(file_obj, skipinitialspace=True)\n",
    "    investors=[]\n",
    "    d=dict()\n",
    "    #now we will form a separate list of investors from the database and wildove blank and undisclosed entries and make a dictionary with keys as startup name and values as list of investors \n",
    "    for row in file_data:\n",
    "        if not ('Undisclosed' in row['InvestorsName'] or 'undisclosed' in row['InvestorsName'] or row[\"InvestorsName\"]==\"\"):\n",
    "            if row[\"StartupName\"] in d.keys():\n",
    "                for i in row['InvestorsName'].split(','):\n",
    "                    d[row[\"StartupName\"]].append(i.strip())\n",
    "            else:\n",
    "                d[row[\"StartupName\"]]=list()\n",
    "                for i in row['InvestorsName'].split(','):\n",
    "                    d[row[\"StartupName\"]].append(i.strip())    \n",
    "    \n",
    "    li=list()\n",
    "    for i in d:\n",
    "        d[i]=np.array(d[i])\n",
    "    for i in d:\n",
    "        x=np.unique(d[i])\n",
    "        for j in x:\n",
    "            li.append(j)\n",
    "    d2=dict()\n",
    "    for i in li:\n",
    "        d2[i]=d2.get(i,0)+1\n",
    "    \n",
    "    x=[]\n",
    "    y=[]\n",
    "    #we convert them to arrays and then to numpy arrays so that we can perform operations on them in a better way \n",
    "    for i in d2:\n",
    "        if i!=\"\":\n",
    "            x.append(i)\n",
    "            y.append(d2[i])\n",
    "    \n",
    "    xn=np.array(x)\n",
    "    yn=np.array(y)\n",
    "    #sort the array and reverse it so that the array now max values are at top and then print top 5 values \n",
    "    xn=xn[np.argsort(yn)]\n",
    "    yn=np.sort(yn)\n",
    "    xn=xn[::-1]\n",
    "    yn=yn[::-1]\n",
    "    for i in range(5):\n",
    "        print(xn[i],yn[i])\n",
    "            \n",
    "    "
   ]
  }
 ],
 "metadata": {
  "kernelspec": {
   "display_name": "Python 3",
   "language": "python",
   "name": "python3"
  },
  "language_info": {
   "codemirror_mode": {
    "name": "ipython",
    "version": 3
   },
   "file_extension": ".py",
   "mimetype": "text/x-python",
   "name": "python",
   "nbconvert_exporter": "python",
   "pygments_lexer": "ipython3",
   "version": "3.8.5"
  }
 },
 "nbformat": 4,
 "nbformat_minor": 4
}
