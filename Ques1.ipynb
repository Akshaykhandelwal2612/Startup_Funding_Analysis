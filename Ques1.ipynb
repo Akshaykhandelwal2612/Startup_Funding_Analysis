{
 "cells": [
  {
   "cell_type": "code",
   "execution_count": 1,
   "metadata": {},
   "outputs": [
    {
     "data": {
      "image/png": "[encoded data removed]",
      "text/plain": [
       "<Figure size 432x288 with 1 Axes>"
      ]
     },
     "metadata": {
      "needs_background": "light"
     },
     "output_type": "display_data"
    },
    {
     "name": "stdout",
     "output_type": "stream",
     "text": [
      "The place having maximum chances to get funding is  NCR \n",
      "number of fundings are  709\n"
     ]
    }
   ],
   "source": [
    "# at first we will import all the libararies that are required during the code \n",
    "import csv\n",
    "import numpy as np\n",
    "import matplotlib.pyplot as plt\n",
    "\n",
    "#now we will open the csv file , here i am reading it with csv libarary however same could be done using pandas and the encoding used is utf-8\n",
    "with open('startup_funding.csv', encoding='utf8') as file_obj:\n",
    "    #now we will read the entire data from the file using DictReader function of csv libarary\n",
    "    file_data=csv.DictReader(file_obj, skipinitialspace=True)\n",
    "    city=[]\n",
    "    \n",
    "    #after reading a file  for better and faster access we will convert cities to numpy array \n",
    "    for row in file_data:\n",
    "        city.append(row['CityLocation'])\n",
    "    ncity=np.array(city)\n",
    "    \n",
    "    #we will now remove all the blank entries from the list \n",
    "    ncity=ncity[ncity != '']\n",
    "    \n",
    "    #now we will check out for the case sensitivity and other spelling issues and correct them so that we can further process on list \n",
    "    for i in range(len(ncity)):\n",
    "        if 'bangalore' in ncity[i]:\n",
    "            ncity[i]='Bangalore'\n",
    "        if ncity[i]=='Delhi':\n",
    "            ncity[i]='New Delhi'\n",
    "    \n",
    "    # we will now filter out only the indian cities from lists in case of multiple entries by considering only the first and ignoring others \n",
    "    for i in range(len(ncity)) :\n",
    "        ncity[i]=ncity[i].split('/')[0].strip()\n",
    "  \n",
    "\n",
    "    # convert the list of arrays to a dictionary and \n",
    "    d=dict()\n",
    "    for i in ncity:\n",
    "        d[i]=d.get(i,0)+1\n",
    "    \n",
    "    \n",
    "    y=list()\n",
    "    x=list()\n",
    "    # since we can only get funding from NCR , MUMBAI and Bangalore so we copy those values to new dictionary and combine values of New Delhi Noida and Gurgaon \n",
    "    d2=dict()\n",
    "    d2[\"NCR\"]=d[\"New Delhi\"] + d[\"Gurgaon\"] + d[\"Noida\"]\n",
    "    d2[\"Bangalore\"]=d[\"Bangalore\"]\n",
    "    d2[\"Mumbai\"]=d[\"Mumbai\"]\n",
    "    \n",
    "    #now we will convert them to two arrays for plotting \n",
    "    for i in d2.keys():\n",
    "        x.append(i)\n",
    "        y.append(d2[i])\n",
    "    # plot and display of bar graph    \n",
    "    plt.bar(x,y)\n",
    "    plt.show()\n",
    "    \n",
    "    # now we will sort and  reverse the values to get maximum values  \n",
    "    k= sorted(d2.items(),key= lambda k:k[1],reverse=True)\n",
    "    k=k[:1]\n",
    "    for i in k: \n",
    "        print(\"The place having maximum chances to get funding is \",i[0],\"\\nnumber of fundings are \",i[1])\n",
    "        \n"
   ]
  }
 ],
 "metadata": {
  "kernelspec": {
   "display_name": "Python 3",
   "language": "python",
   "name": "python3"
  },
  "language_info": {
   "codemirror_mode": {
    "name": "ipython",
    "version": 3
   },
   "file_extension": ".py",
   "mimetype": "text/x-python",
   "name": "python",
   "nbconvert_exporter": "python",
   "pygments_lexer": "ipython3",
   "version": "3.8.5"
  }
 },
 "nbformat": 4,
 "nbformat_minor": 4
}
