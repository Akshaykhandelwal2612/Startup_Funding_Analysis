{
 "cells": [
  {
   "cell_type": "code",
   "execution_count": 1,
   "metadata": {},
   "outputs": [
    {
     "name": "stdout",
     "output_type": "stream",
     "text": [
      "Sequoia Capital\n",
      "Accel Partners\n",
      "Kalaari Capital\n",
      "SAIF Partners\n",
      "Blume Ventures\n"
     ]
    }
   ],
   "source": [
    "# at first we will import all the libararies that are required during the code\n",
    "import csv\n",
    "import numpy as np\n",
    "import matplotlib.pyplot as plt\n",
    "import pandas as pd\n",
    "#now we will open the csv file , here i am reading it with csv libarary however same could be done using pandas and the encoding used is utf-8\n",
    "with open('startup_funding.csv', encoding='utf8') as file_obj:\n",
    "     #now we will read the entire data from the file using DictReader function of csv libarary\n",
    "    file_data=csv.DictReader(file_obj, skipinitialspace=True)\n",
    "    investors=list()\n",
    "    #now we will read the data and change the names and other corrections in the file and store all the investors of required type  in a list\n",
    "    for i in file_data:\n",
    "        if  \"Oyo\" in i[\"StartupName\"] or \"OYO Rooms\" in i[\"StartupName\"] :\n",
    "            i[\"StartupName\"]=\"Oyo\"\n",
    "        if \"Ola\" in i[\"StartupName\"]  :\n",
    "            i[\"StartupName\"]=\"Ola\"\n",
    "        if \"Flipkart\" in i[\"StartupName\"] :\n",
    "            i[\"StartupName\"]=\"Flipkart\"\n",
    "        if \"Paytm\" in i[\"StartupName\"] :\n",
    "            i[\"StartupName\"]=\"Paytm\"\n",
    "        if \"Snapdeal\" in i[\"StartupName\"] :\n",
    "            i[\"StartupName\"]=\"Snapdeal\"\n",
    "        if \"Seed\" in i[\"InvestmentType\"]:\n",
    "            i[\"InvestmentType\"]='Seed Funding'\n",
    "        if \"Private\" in i[\"InvestmentType\"]:\n",
    "            i[\"InvestmentType\"]=\"Private Equity\"\n",
    "        if \"Crowd\" in i[\"InvestmentType\"]:\n",
    "            i[\"InvestmentType\"]='Crowd Funding'\n",
    "        \n",
    "        #now we filter out only the private equity values and perform operation \n",
    "        if i[\"InvestmentType\"]==\"Private Equity\":\n",
    "            if not ('Undisclosed' in i['InvestorsName'] or 'undisclosed' in i['InvestorsName']):\n",
    "                for j in i['InvestorsName'].split(','):\n",
    "                        investors.append(j.strip())\n",
    "    d=dict()\n",
    "    for i in investors:\n",
    "        if i!=\"\":\n",
    "            d[i]=d.get(i,0)+1\n",
    "    x=[]\n",
    "    y=[]\n",
    "    #we convert them to arrays and then to numpy arrays so that we can perform operations on them in a better way \n",
    "    for i in d.keys():\n",
    "        x.append(i)\n",
    "        y.append(d[i])\n",
    "    \n",
    "    xn=np.array(x)\n",
    "    yn=np.array(y)\n",
    "    #sort the array and reverse it so that the array now max values are at top and then print top 5 values \n",
    "    xn=xn[np.argsort(yn)]\n",
    "    yn=np.sort(yn)\n",
    "    xn=xn[::-1]\n",
    "    yn=yn[::-1]\n",
    "    for i in range(5):\n",
    "        print(xn[i])\n",
    "\n",
    "            "
   ]
  }
 ],
 "metadata": {
  "kernelspec": {
   "display_name": "Python 3",
   "language": "python",
   "name": "python3"
  },
  "language_info": {
   "codemirror_mode": {
    "name": "ipython",
    "version": 3
   },
   "file_extension": ".py",
   "mimetype": "text/x-python",
   "name": "python",
   "nbconvert_exporter": "python",
   "pygments_lexer": "ipython3",
   "version": "3.8.5"
  }
 },
 "nbformat": 4,
 "nbformat_minor": 4
}
